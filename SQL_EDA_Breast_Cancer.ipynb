{
 "cells": [
  {
   "cell_type": "markdown",
   "id": "8f3cdbc0",
   "metadata": {},
   "source": [
    "# SQL EDA on the UCI Breast Cancer Wisconsin Dataset\n",
    "This notebook loads a public dataset (via scikit-learn), writes it to SQLite, and performs exploratory data analysis using **SQL**."
   ]
  },
  {
   "cell_type": "code",
   "execution_count": null,
   "id": "d38d072e",
   "metadata": {},
   "outputs": [],
   "source": [
    "\n",
    "import sqlite3\n",
    "import numpy as np\n",
    "import pandas as pd\n",
    "import matplotlib.pyplot as plt\n",
    "from sklearn.datasets import load_breast_cancer\n",
    "\n",
    "# Load dataset\n",
    "data_bunch = load_breast_cancer(as_frame=True)\n",
    "df = data_bunch.frame.copy()\n",
    "df[\"target_name\"] = df[\"target\"].map({i: name for i, name in enumerate(data_bunch.target_names)})\n",
    "df.columns = [c.strip().lower().replace(\" \", \"_\").replace(\"(\", \"\").replace(\")\", \"\").replace(\"/\", \"_\") for c in df.columns]\n",
    "df.insert(0, \"id\", np.arange(1, len(df) + 1))\n",
    "\n",
    "# Save CSV (optional)\n",
    "df.to_csv(\"breast_cancer_uci.csv\", index=False)\n",
    "\n",
    "# Create SQLite DB\n",
    "conn = sqlite3.connect(\"eda_sql.db\")\n",
    "df.to_sql(\"breast_cancer\", conn, index=False, if_exists=\"replace\")\n",
    "\n",
    "def q(sql, params=None):\n",
    "    return pd.read_sql_query(sql, conn, params=params)\n",
    "\n",
    "df.head()\n"
   ]
  },
  {
   "cell_type": "markdown",
   "id": "3831a0ce",
   "metadata": {},
   "source": [
    "## Basic Shape & Preview"
   ]
  },
  {
   "cell_type": "code",
   "execution_count": null,
   "id": "70f7660b",
   "metadata": {},
   "outputs": [],
   "source": [
    "\n",
    "q(\"SELECT COUNT(*) AS rows FROM breast_cancer;\")\n"
   ]
  },
  {
   "cell_type": "code",
   "execution_count": null,
   "id": "a359d539",
   "metadata": {},
   "outputs": [],
   "source": [
    "\n",
    "len(df.columns)\n"
   ]
  },
  {
   "cell_type": "code",
   "execution_count": null,
   "id": "bc29ee9d",
   "metadata": {},
   "outputs": [],
   "source": [
    "\n",
    "q(\"SELECT * FROM breast_cancer LIMIT 5;\")\n"
   ]
  },
  {
   "cell_type": "markdown",
   "id": "9b228b9e",
   "metadata": {},
   "source": [
    "## Null Checks"
   ]
  },
  {
   "cell_type": "code",
   "execution_count": null,
   "id": "d6f122ee",
   "metadata": {},
   "outputs": [],
   "source": [
    "SELECT 'id' AS column_name, (COUNT(*) - COUNT([id])) AS null_count FROM breast_cancer UNION ALL SELECT 'mean_radius' AS column_name, (COUNT(*) - COUNT([mean_radius])) AS null_count FROM breast_cancer UNION ALL SELECT 'mean_texture' AS column_name, (COUNT(*) - COUNT([mean_texture])) AS null_count FROM breast_cancer UNION ALL SELECT 'mean_perimeter' AS column_name, (COUNT(*) - COUNT([mean_perimeter])) AS null_count FROM breast_cancer UNION ALL SELECT 'mean_area' AS column_name, (COUNT(*) - COUNT([mean_area])) AS null_count FROM breast_cancer UNION ALL SELECT 'mean_smoothness' AS column_name, (COUNT(*) - COUNT([mean_smoothness])) AS null_count FROM breast_cancer UNION ALL SELECT 'mean_compactness' AS column_name, (COUNT(*) - COUNT([mean_compactness])) AS null_count FROM breast_cancer UNION ALL SELECT 'mean_concavity' AS column_name, (COUNT(*) - COUNT([mean_concavity])) AS null_count FROM breast_cancer UNION ALL SELECT 'mean_concave_points' AS column_name, (COUNT(*) - COUNT([mean_concave_points])) AS null_count FROM breast_cancer UNION ALL SELECT 'mean_symmetry' AS column_name, (COUNT(*) - COUNT([mean_symmetry])) AS null_count FROM breast_cancer UNION ALL SELECT 'mean_fractal_dimension' AS column_name, (COUNT(*) - COUNT([mean_fractal_dimension])) AS null_count FROM breast_cancer UNION ALL SELECT 'radius_error' AS column_name, (COUNT(*) - COUNT([radius_error])) AS null_count FROM breast_cancer UNION ALL SELECT 'texture_error' AS column_name, (COUNT(*) - COUNT([texture_error])) AS null_count FROM breast_cancer UNION ALL SELECT 'perimeter_error' AS column_name, (COUNT(*) - COUNT([perimeter_error])) AS null_count FROM breast_cancer UNION ALL SELECT 'area_error' AS column_name, (COUNT(*) - COUNT([area_error])) AS null_count FROM breast_cancer UNION ALL SELECT 'smoothness_error' AS column_name, (COUNT(*) - COUNT([smoothness_error])) AS null_count FROM breast_cancer UNION ALL SELECT 'compactness_error' AS column_name, (COUNT(*) - COUNT([compactness_error])) AS null_count FROM breast_cancer UNION ALL SELECT 'concavity_error' AS column_name, (COUNT(*) - COUNT([concavity_error])) AS null_count FROM breast_cancer UNION ALL SELECT 'concave_points_error' AS column_name, (COUNT(*) - COUNT([concave_points_error])) AS null_count FROM breast_cancer UNION ALL SELECT 'symmetry_error' AS column_name, (COUNT(*) - COUNT([symmetry_error])) AS null_count FROM breast_cancer UNION ALL SELECT 'fractal_dimension_error' AS column_name, (COUNT(*) - COUNT([fractal_dimension_error])) AS null_count FROM breast_cancer UNION ALL SELECT 'worst_radius' AS column_name, (COUNT(*) - COUNT([worst_radius])) AS null_count FROM breast_cancer UNION ALL SELECT 'worst_texture' AS column_name, (COUNT(*) - COUNT([worst_texture])) AS null_count FROM breast_cancer UNION ALL SELECT 'worst_perimeter' AS column_name, (COUNT(*) - COUNT([worst_perimeter])) AS null_count FROM breast_cancer UNION ALL SELECT 'worst_area' AS column_name, (COUNT(*) - COUNT([worst_area])) AS null_count FROM breast_cancer UNION ALL SELECT 'worst_smoothness' AS column_name, (COUNT(*) - COUNT([worst_smoothness])) AS null_count FROM breast_cancer UNION ALL SELECT 'worst_compactness' AS column_name, (COUNT(*) - COUNT([worst_compactness])) AS null_count FROM breast_cancer UNION ALL SELECT 'worst_concavity' AS column_name, (COUNT(*) - COUNT([worst_concavity])) AS null_count FROM breast_cancer UNION ALL SELECT 'worst_concave_points' AS column_name, (COUNT(*) - COUNT([worst_concave_points])) AS null_count FROM breast_cancer UNION ALL SELECT 'worst_symmetry' AS column_name, (COUNT(*) - COUNT([worst_symmetry])) AS null_count FROM breast_cancer UNION ALL SELECT 'worst_fractal_dimension' AS column_name, (COUNT(*) - COUNT([worst_fractal_dimension])) AS null_count FROM breast_cancer UNION ALL SELECT 'target' AS column_name, (COUNT(*) - COUNT([target])) AS null_count FROM breast_cancer UNION ALL SELECT 'target_name' AS column_name, (COUNT(*) - COUNT([target_name])) AS null_count FROM breast_cancer"
   ]
  },
  {
   "cell_type": "code",
   "execution_count": null,
   "id": "4a0c57ea",
   "metadata": {},
   "outputs": [],
   "source": [
    "\n",
    "q(\"SELECT 'id' AS column_name, (COUNT(*) - COUNT([id])) AS null_count FROM breast_cancer UNION ALL SELECT 'mean_radius' AS column_name, (COUNT(*) - COUNT([mean_radius])) AS null_count FROM breast_cancer UNION ALL SELECT 'mean_texture' AS column_name, (COUNT(*) - COUNT([mean_texture])) AS null_count FROM breast_cancer UNION ALL SELECT 'mean_perimeter' AS column_name, (COUNT(*) - COUNT([mean_perimeter])) AS null_count FROM breast_cancer UNION ALL SELECT 'mean_area' AS column_name, (COUNT(*) - COUNT([mean_area])) AS null_count FROM breast_cancer UNION ALL SELECT 'mean_smoothness' AS column_name, (COUNT(*) - COUNT([mean_smoothness])) AS null_count FROM breast_cancer UNION ALL SELECT 'mean_compactness' AS column_name, (COUNT(*) - COUNT([mean_compactness])) AS null_count FROM breast_cancer UNION ALL SELECT 'mean_concavity' AS column_name, (COUNT(*) - COUNT([mean_concavity])) AS null_count FROM breast_cancer UNION ALL SELECT 'mean_concave_points' AS column_name, (COUNT(*) - COUNT([mean_concave_points])) AS null_count FROM breast_cancer UNION ALL SELECT 'mean_symmetry' AS column_name, (COUNT(*) - COUNT([mean_symmetry])) AS null_count FROM breast_cancer UNION ALL SELECT 'mean_fractal_dimension' AS column_name, (COUNT(*) - COUNT([mean_fractal_dimension])) AS null_count FROM breast_cancer UNION ALL SELECT 'radius_error' AS column_name, (COUNT(*) - COUNT([radius_error])) AS null_count FROM breast_cancer UNION ALL SELECT 'texture_error' AS column_name, (COUNT(*) - COUNT([texture_error])) AS null_count FROM breast_cancer UNION ALL SELECT 'perimeter_error' AS column_name, (COUNT(*) - COUNT([perimeter_error])) AS null_count FROM breast_cancer UNION ALL SELECT 'area_error' AS column_name, (COUNT(*) - COUNT([area_error])) AS null_count FROM breast_cancer UNION ALL SELECT 'smoothness_error' AS column_name, (COUNT(*) - COUNT([smoothness_error])) AS null_count FROM breast_cancer UNION ALL SELECT 'compactness_error' AS column_name, (COUNT(*) - COUNT([compactness_error])) AS null_count FROM breast_cancer UNION ALL SELECT 'concavity_error' AS column_name, (COUNT(*) - COUNT([concavity_error])) AS null_count FROM breast_cancer UNION ALL SELECT 'concave_points_error' AS column_name, (COUNT(*) - COUNT([concave_points_error])) AS null_count FROM breast_cancer UNION ALL SELECT 'symmetry_error' AS column_name, (COUNT(*) - COUNT([symmetry_error])) AS null_count FROM breast_cancer UNION ALL SELECT 'fractal_dimension_error' AS column_name, (COUNT(*) - COUNT([fractal_dimension_error])) AS null_count FROM breast_cancer UNION ALL SELECT 'worst_radius' AS column_name, (COUNT(*) - COUNT([worst_radius])) AS null_count FROM breast_cancer UNION ALL SELECT 'worst_texture' AS column_name, (COUNT(*) - COUNT([worst_texture])) AS null_count FROM breast_cancer UNION ALL SELECT 'worst_perimeter' AS column_name, (COUNT(*) - COUNT([worst_perimeter])) AS null_count FROM breast_cancer UNION ALL SELECT 'worst_area' AS column_name, (COUNT(*) - COUNT([worst_area])) AS null_count FROM breast_cancer UNION ALL SELECT 'worst_smoothness' AS column_name, (COUNT(*) - COUNT([worst_smoothness])) AS null_count FROM breast_cancer UNION ALL SELECT 'worst_compactness' AS column_name, (COUNT(*) - COUNT([worst_compactness])) AS null_count FROM breast_cancer UNION ALL SELECT 'worst_concavity' AS column_name, (COUNT(*) - COUNT([worst_concavity])) AS null_count FROM breast_cancer UNION ALL SELECT 'worst_concave_points' AS column_name, (COUNT(*) - COUNT([worst_concave_points])) AS null_count FROM breast_cancer UNION ALL SELECT 'worst_symmetry' AS column_name, (COUNT(*) - COUNT([worst_symmetry])) AS null_count FROM breast_cancer UNION ALL SELECT 'worst_fractal_dimension' AS column_name, (COUNT(*) - COUNT([worst_fractal_dimension])) AS null_count FROM breast_cancer UNION ALL SELECT 'target' AS column_name, (COUNT(*) - COUNT([target])) AS null_count FROM breast_cancer UNION ALL SELECT 'target_name' AS column_name, (COUNT(*) - COUNT([target_name])) AS null_count FROM breast_cancer\")\n"
   ]
  },
  {
   "cell_type": "markdown",
   "id": "93aaa689",
   "metadata": {},
   "source": [
    "## Class Distribution"
   ]
  },
  {
   "cell_type": "code",
   "execution_count": null,
   "id": "e2da4ece",
   "metadata": {},
   "outputs": [],
   "source": [
    "\n",
    "class_dist = q(\"\"\"\n",
    "    SELECT target_name, COUNT(*) AS n, ROUND(CAST(COUNT(*) AS FLOAT) * 100.0 / (SELECT COUNT(*) FROM breast_cancer), 2) AS pct\n",
    "    FROM breast_cancer\n",
    "    GROUP BY target_name\n",
    "    ORDER BY n DESC;\n",
    "\"\"\")\n",
    "class_dist\n"
   ]
  },
  {
   "cell_type": "code",
   "execution_count": null,
   "id": "4d4e43b1",
   "metadata": {},
   "outputs": [],
   "source": [
    "\n",
    "plt.figure()\n",
    "plt.bar(class_dist[\"target_name\"], class_dist[\"n\"])\n",
    "plt.title(\"Class Distribution (SQL)\")\n",
    "plt.xlabel(\"Class\")\n",
    "plt.ylabel(\"Count\")\n",
    "plt.show()\n"
   ]
  },
  {
   "cell_type": "markdown",
   "id": "af6082a5",
   "metadata": {},
   "source": [
    "## Basic Stats per Numeric Column (via SQL)"
   ]
  },
  {
   "cell_type": "code",
   "execution_count": null,
   "id": "798c2db4",
   "metadata": {},
   "outputs": [],
   "source": [
    "\n",
    "numeric_cols = [c for c in df.columns if df[c].dtype != \"object\" and c not in (\"id\",)]\n",
    "rows = []\n",
    "for col in numeric_cols:\n",
    "    sql = f\"\"\"\n",
    "    SELECT \n",
    "        MIN([{col}]) AS min,\n",
    "        MAX([{col}]) AS max,\n",
    "        AVG([{col}]) AS mean,\n",
    "        AVG([{col}]*[{col}]) - AVG([{col}])*AVG([{col}]) AS variance\n",
    "    FROM breast_cancer;\n",
    "    \"\"\"\n",
    "    r = q(sql).iloc[0].to_dict()\n",
    "    r[\"stddev\"] = (r[\"variance\"]) ** 0.5 if pd.notnull(r[\"variance\"]) else None\n",
    "    r[\"column\"] = col\n",
    "    rows.append(r)\n",
    "basic_stats = pd.DataFrame(rows)[[\"column\", \"min\", \"max\", \"mean\", \"variance\", \"stddev\"]]\n",
    "basic_stats.sort_values(\"column\").reset_index(drop=True)\n"
   ]
  },
  {
   "cell_type": "markdown",
   "id": "4407913d",
   "metadata": {},
   "source": [
    "## Feature Means by Class & Top-5 Differences"
   ]
  },
  {
   "cell_type": "code",
   "execution_count": null,
   "id": "899ab68c",
   "metadata": {},
   "outputs": [],
   "source": [
    "\n",
    "feature_means_by_class = q(\"SELECT target_name, \" + \", \".join([f\"AVG([{c}]) AS avg_{c}\" for c in numeric_cols if c != \"target\"]) + \" FROM breast_cancer GROUP BY target_name;\")\n",
    "feature_means_by_class\n"
   ]
  },
  {
   "cell_type": "code",
   "execution_count": null,
   "id": "657eec51",
   "metadata": {},
   "outputs": [],
   "source": [
    "\n",
    "means = feature_means_by_class.set_index(\"target_name\").T\n",
    "means[\"abs_diff\"] = (means.iloc[:, 0] - means.iloc[:, 1]).abs()\n",
    "top5_diff = means.sort_values(\"abs_diff\", ascending=False).head(5).reset_index().rename(columns={\"index\": \"feature\"})\n",
    "top5_diff\n"
   ]
  },
  {
   "cell_type": "code",
   "execution_count": null,
   "id": "610699ec",
   "metadata": {},
   "outputs": [],
   "source": [
    "\n",
    "plt.figure()\n",
    "plt.bar(top5_diff[\"feature\"], top5_diff[\"abs_diff\"])\n",
    "plt.title(\"Top-5 Features by Mean Difference Between Classes\")\n",
    "plt.xticks(rotation=45, ha=\"right\")\n",
    "plt.ylabel(\"Absolute Mean Difference\")\n",
    "plt.show()\n"
   ]
  },
  {
   "cell_type": "markdown",
   "id": "3db22afe",
   "metadata": {},
   "source": [
    "## Quartile Binnings (SQL thresholds)"
   ]
  },
  {
   "cell_type": "code",
   "execution_count": null,
   "id": "698b1647",
   "metadata": {},
   "outputs": [],
   "source": [
    "\n",
    "def quartiles(series):\n",
    "    return np.quantile(series, [0.25, 0.5, 0.75])\n",
    "binnings_list = []\n",
    "for feature in [\"mean_radius\", \"mean_texture\"]:\n",
    "    q1, q2, q3 = quartiles(df[feature])\n",
    "    sql = f\"\"\"\n",
    "        SELECT '{feature}' AS feature,\n",
    "               SUM(CASE WHEN {feature} <= {q1} THEN 1 ELSE 0 END) AS q1_and_below,\n",
    "               SUM(CASE WHEN {feature} > {q1} AND {feature} <= {q2} THEN 1 ELSE 0 END) AS q2,\n",
    "               SUM(CASE WHEN {feature} > {q2} AND {feature} <= {q3} THEN 1 ELSE 0 END) AS q3,\n",
    "               SUM(CASE WHEN {feature} > {q3} THEN 1 ELSE 0 END) AS above_q3\n",
    "        FROM breast_cancer;\n",
    "    \"\"\"\n",
    "    binnings_list.append(q(sql))\n",
    "pd.concat(binnings_list, ignore_index=True)\n"
   ]
  }
 ],
 "metadata": {},
 "nbformat": 4,
 "nbformat_minor": 5
}
